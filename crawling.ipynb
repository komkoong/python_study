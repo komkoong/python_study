{
  "nbformat": 4,
  "nbformat_minor": 0,
  "metadata": {
    "colab": {
      "provenance": [],
      "authorship_tag": "ABX9TyOXQDJKzMRfRoY9Hf3Ow2P6",
      "include_colab_link": true
    },
    "kernelspec": {
      "name": "python3",
      "display_name": "Python 3"
    },
    "language_info": {
      "name": "python"
    }
  },
  "cells": [
    {
      "cell_type": "markdown",
      "metadata": {
        "id": "view-in-github",
        "colab_type": "text"
      },
      "source": [
        "<a href=\"https://colab.research.google.com/github/komkoong/python_study/blob/main/crawling.ipynb\" target=\"_parent\"><img src=\"https://colab.research.google.com/assets/colab-badge.svg\" alt=\"Open In Colab\"/></a>"
      ]
    },
    {
      "cell_type": "code",
      "execution_count": 1,
      "metadata": {
        "colab": {
          "base_uri": "https://localhost:8080/"
        },
        "id": "I6Hn980uEGKo",
        "outputId": "21b9cda1-c7ca-4a5d-e1ef-b77af5fe6eaa"
      },
      "outputs": [
        {
          "output_type": "stream",
          "name": "stdout",
          "text": [
            "검색어 입력: 설암\n",
            "크롤링할 갯수 입력(최대 50개): 10\n",
            "Image Crawling is done.\n"
          ]
        }
      ],
      "source": [
        "from bs4 import BeautifulSoup as bs\n",
        "from urllib.request import urlopen\n",
        "from urllib.parse import quote_plus\n",
        " \n",
        "baseUrl = 'https://search.naver.com/search.naver?where=image&sm=tab_jum&query='\n",
        "plusUrl = input('검색어 입력: ') \n",
        "crawl_num = int(input('크롤링할 갯수 입력(최대 50개): '))\n",
        " \n",
        "url = baseUrl + quote_plus(plusUrl) # 한글 검색 자동 변환\n",
        "html = urlopen(url)\n",
        "soup = bs(html, \"html.parser\")\n",
        "img = soup.find_all(class_='_img')\n",
        " \n",
        "n = 1\n",
        "for i in img:\n",
        "    print(n)\n",
        "    imgUrl = i['data-source']\n",
        "    with urlopen(imgUrl) as f:\n",
        "        with open('./images/img' + str(n)+'.jpg','wb') as h: # w - write b - binary\n",
        "            img = f.read()\n",
        "            h.write(img)\n",
        "    n += 1\n",
        "    if n > crawl_num:\n",
        "        break\n",
        "    \n",
        "    \n",
        "print('Image Crawling is done.')"
      ]
    }
  ]
}